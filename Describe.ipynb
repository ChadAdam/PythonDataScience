{
 "cells": [
  {
   "cell_type": "code",
   "execution_count": 1,
   "metadata": {},
   "outputs": [],
   "source": [
    "import pandas as pd\n",
    "import numpy as np\n",
    "import matplotlib.pyplot as plt\n",
    "%matplotlib inline"
   ]
  },
  {
   "cell_type": "code",
   "execution_count": 58,
   "metadata": {},
   "outputs": [],
   "source": [
    "ages = np.array([14 , 12 , 11 , 10, 8,6,8])\n",
    "#pd.Series(ages)\n",
    "def CTandV(array):\n",
    "    mean = np.mean(array)\n",
    "    median = np.median(array)\n",
    "    var = np.var(array, ddof=1)\n",
    "    std = np.std(array, ddof=1)\n",
    "    ste = std / np.sqrt(len(array))\n",
    "    (age , count) = np.unique(array , return_counts=True)\n",
    "    ind = np.argmax(count)\n",
    "    mode = age[ind]\n",
    "    print( 'Mean is {} , Varience is {}\\n,Std is {} , STE is {}\\n,Mode is {}'.format(mean, var,std,ste,mode))\n",
    "    print('Median =' , median)"
   ]
  },
  {
   "cell_type": "code",
   "execution_count": 59,
   "metadata": {},
   "outputs": [
    {
     "name": "stdout",
     "output_type": "stream",
     "text": [
      "Mean is 9.857142857142858 , Varience is 7.476190476190475\n",
      ",Std is 2.734262327610589 , STE is 1.0334540197243192\n",
      ",Mode is 8\n",
      "Median = 10.0\n"
     ]
    }
   ],
   "source": [
    "CTandV(ages)\n"
   ]
  },
  {
   "cell_type": "code",
   "execution_count": 60,
   "metadata": {},
   "outputs": [
    {
     "name": "stdout",
     "output_type": "stream",
     "text": [
      "Mean is 10.0 , Varience is 6.333333333333333\n",
      ",Std is 2.516611478423583 , STE is 0.9511897312113418\n",
      ",Mode is 8\n",
      "Median = 10.0\n"
     ]
    }
   ],
   "source": [
    "ages2 = np.array([14 , 12 , 11 , 10, 8,7,8])\n",
    "CTandV(ages2)"
   ]
  },
  {
   "cell_type": "code",
   "execution_count": 62,
   "metadata": {},
   "outputs": [
    {
     "name": "stdout",
     "output_type": "stream",
     "text": [
      "Mean is 8.857142857142858 , Varience is 18.80952380952381\n",
      ",Std is 4.3369947901195145 , STE is 1.6392299502912862\n",
      ",Mode is 1\n",
      "Median = 10.0\n"
     ]
    }
   ],
   "source": [
    "age3 = np.array([14 , 12 , 11 , 10, 8,6,1])\n",
    "CTandV(age3)"
   ]
  },
  {
   "cell_type": "code",
   "execution_count": null,
   "metadata": {},
   "outputs": [],
   "source": []
  }
 ],
 "metadata": {
  "kernelspec": {
   "display_name": "Python 3",
   "language": "python",
   "name": "python3"
  },
  "language_info": {
   "codemirror_mode": {
    "name": "ipython",
    "version": 3
   },
   "file_extension": ".py",
   "mimetype": "text/x-python",
   "name": "python",
   "nbconvert_exporter": "python",
   "pygments_lexer": "ipython3",
   "version": "3.7.1"
  }
 },
 "nbformat": 4,
 "nbformat_minor": 2
}
