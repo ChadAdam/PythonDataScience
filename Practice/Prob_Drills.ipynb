{
 "cells": [
  {
   "cell_type": "code",
   "execution_count": 1,
   "metadata": {},
   "outputs": [],
   "source": [
    "import numpy as np\n",
    "import pandas as pd\n",
    "import matplotlib.pyplot as plt\n",
    "%matplotlib inline"
   ]
  },
  {
   "cell_type": "code",
   "execution_count": 10,
   "metadata": {},
   "outputs": [
    {
     "name": "stdout",
     "output_type": "stream",
     "text": [
      "0.0625 0.0625 0.0625\n"
     ]
    }
   ],
   "source": [
    "#Calculate the probability of flipping a balanced coin four times\n",
    "#HTTH, HHHH TTHH\n",
    "\n",
    "P_H , P_T = 1/2 , 1/2\n",
    "HHHH = P_H * P_H * P_H * P_H\n",
    "HTTH = P_H * P_H * P_H * P_H\n",
    "TTHH = P_H * P_H * P_H * P_H\n",
    "print( HHHH,HTTH, TTHH)"
   ]
  },
  {
   "cell_type": "code",
   "execution_count": 12,
   "metadata": {},
   "outputs": [
    {
     "data": {
      "text/plain": [
       "0.5333333333333333"
      ]
     },
     "execution_count": 12,
     "metadata": {},
     "output_type": "execute_result"
    }
   ],
   "source": [
    "#If a list of people has 24 women and 21 men, then the probability of choosing a man from the list is 21/45. \n",
    "#What is the probability of not choosing a man?\n",
    "\n",
    "P = 24/45\n",
    "P"
   ]
  },
  {
   "cell_type": "code",
   "execution_count": 19,
   "metadata": {},
   "outputs": [
    {
     "name": "stdout",
     "output_type": "stream",
     "text": [
      "0.000050\n"
     ]
    }
   ],
   "source": [
    "#The probability that Bernice will travel by plane sometime in the next year is 10%. \n",
    "#The probability of a plane crash at any time is .005%. \n",
    "#What is the probability that Bernice will be in a plane crash sometime in the next year?\n",
    "onPlane = (10 /100)\n",
    "crash = (.005 /100)\n",
    "Prob = onPlan = crash\n",
    "print(format(Prob , 'f'))"
   ]
  },
  {
   "cell_type": "code",
   "execution_count": null,
   "metadata": {},
   "outputs": [],
   "source": [
    "# The sample does not accuratly relfect the population"
   ]
  }
 ],
 "metadata": {
  "kernelspec": {
   "display_name": "Python 3",
   "language": "python",
   "name": "python3"
  },
  "language_info": {
   "codemirror_mode": {
    "name": "ipython",
    "version": 3
   },
   "file_extension": ".py",
   "mimetype": "text/x-python",
   "name": "python",
   "nbconvert_exporter": "python",
   "pygments_lexer": "ipython3",
   "version": "3.7.1"
  }
 },
 "nbformat": 4,
 "nbformat_minor": 2
}
