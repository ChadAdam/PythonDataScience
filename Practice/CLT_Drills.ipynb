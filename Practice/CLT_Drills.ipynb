{
 "cells": [
  {
   "cell_type": "code",
   "execution_count": 9,
   "metadata": {},
   "outputs": [],
   "source": [
    "import numpy as np\n",
    "import pandas as pd\n",
    "import matplotlib.pyplot as plt\n",
    "import scipy.stats as ss\n",
    "%matplotlib inline"
   ]
  },
  {
   "cell_type": "code",
   "execution_count": 3,
   "metadata": {},
   "outputs": [
    {
     "data": {
      "image/png": "[encoded data removed]",
      "text/plain": [
       "<Figure size 432x288 with 1 Axes>"
      ]
     },
     "metadata": {
      "needs_background": "light"
     },
     "output_type": "display_data"
    }
   ],
   "source": [
    "np.random.seed(555)\n",
    "pop1 = np.random.binomial(10 ,.2 ,1000)\n",
    "pop2 = np.random.binomial(10 ,.5 ,1000)\n",
    "\n",
    "plt.hist(pop1, alpha=.5,label='Population 1')\n",
    "plt.hist(pop2, alpha=.5,label='Population 2')\n",
    "plt.legend(loc='upper center')\n",
    "plt.show()\n",
    "\n"
   ]
  },
  {
   "cell_type": "code",
   "execution_count": 4,
   "metadata": {},
   "outputs": [
    {
     "data": {
      "image/png": "[encoded data removed]",
      "text/plain": [
       "<Figure size 432x288 with 1 Axes>"
      ]
     },
     "metadata": {
      "needs_background": "light"
     },
     "output_type": "display_data"
    },
    {
     "name": "stdout",
     "output_type": "stream",
     "text": [
      "Sample1 Mean is 1.89 , and the STD is 1.384583225043084\n",
      "Sample2 Mean is 5.03 , and the STD is 1.6234083113790398\n"
     ]
    }
   ],
   "source": [
    "sample1 = np.random.choice(pop1, 100, replace=False)\n",
    "sample2 = np.random.choice(pop2, 100, replace=False)\n",
    "plt.hist(sample1, alpha=.5,label='Sample 1')\n",
    "plt.hist(sample2, alpha=.5,label='Sample 2')\n",
    "plt.legend(loc='upper center')\n",
    "plt.show()\n",
    "print('Sample1 Mean is {} , and the STD is {}'.format(sample1.mean(), sample1.std(ddof=1)))\n",
    "print('Sample2 Mean is {} , and the STD is {}'.format(sample2.mean(), sample2.std(ddof=1)))\n",
    "diff = sample2.mean() - sample1.mean()\n"
   ]
  },
  {
   "cell_type": "markdown",
   "metadata": {},
   "source": [
    "### For each of the following tasks, first write what you expect will happen, then code the changes and observe what does happen. Discuss the results with your mentor."
   ]
  },
  {
   "cell_type": "code",
   "execution_count": 5,
   "metadata": {},
   "outputs": [
    {
     "data": {
      "image/png": "[encoded data removed]",
      "text/plain": [
       "<Figure size 432x288 with 1 Axes>"
      ]
     },
     "metadata": {
      "needs_background": "light"
     },
     "output_type": "display_data"
    },
    {
     "name": "stdout",
     "output_type": "stream",
     "text": [
      "Sample1-N1000 Mean is 1.967 , and the STD is 1.2874659485083746\n",
      "Sample2-N1000 Mean is 4.999 , and the STD is 1.5866683700498088\n"
     ]
    },
    {
     "data": {
      "image/png": "[encoded data removed]",
      "text/plain": [
       "<Figure size 432x288 with 1 Axes>"
      ]
     },
     "metadata": {
      "needs_background": "light"
     },
     "output_type": "display_data"
    },
    {
     "name": "stdout",
     "output_type": "stream",
     "text": [
      "Sample1-N20 Mean is 2.3 , and the STD is 1.4179302929937965\n",
      "Sample2-N20 Mean is 5.2 , and the STD is 1.6415653633362466\n",
      "Mean diff s1: 0.33299999999999974 and s2: 0.2010000000000005, STD diff s1: 0.13046434448542188 and s2: 0.05489699328643782\n"
     ]
    }
   ],
   "source": [
    "#1.\n",
    "S1000A = np.random.choice(pop1, 1000, replace=False)\n",
    "S1000B = np.random.choice(pop2, 1000, replace=False)\n",
    "plt.hist(S1000A, alpha=.5,label='Sample1-N=1000')\n",
    "plt.hist(S1000B, alpha=.5,label='Sample2-N=1000')\n",
    "plt.legend(loc='upper center')\n",
    "plt.show()\n",
    "print('Sample1-N1000 Mean is {} , and the STD is {}'.format(S1000A.mean(), S1000A.std(ddof=1)))\n",
    "print('Sample2-N1000 Mean is {} , and the STD is {}'.format(S1000B.mean(), S1000B.std(ddof=1)))\n",
    "\n",
    "S20A = np.random.choice(pop1, 20, replace=False)\n",
    "S20B = np.random.choice(pop2, 20, replace=False)\n",
    "plt.hist(S20A, alpha=.5,label='Sample1-N=20')\n",
    "plt.hist(S20B, alpha=.5,label='Sample2-N=20')\n",
    "plt.legend(loc='upper center')\n",
    "plt.show()\n",
    "print('Sample1-N20 Mean is {} , and the STD is {}'.format(S20A.mean(), S20A.std(ddof=1)))\n",
    "print('Sample2-N20 Mean is {} , and the STD is {}'.format(S20B.mean(), S20B.std(ddof=1)))\n",
    "print('Mean diff s1: {} and s2: {}, STD diff s1: {} and s2: {}'.format(S20A.mean()-S1000A.mean(), S20B.mean()-S1000B.mean(),S20A.std(ddof=1)-S1000A.std(ddof=1),S20B.std(ddof=1)-S1000B.std(ddof=1)))"
   ]
  },
  {
   "cell_type": "markdown",
   "metadata": {},
   "source": [
    "When comparing the Sample N=1000 to Sample N=20 , I see that the mean  for Sample 1 (N1000 & N20)and Sample 2 (N1000 & N20) changed the most, while I see the standard deviation for the two samples barely changed."
   ]
  },
  {
   "cell_type": "code",
   "execution_count": 6,
   "metadata": {},
   "outputs": [
    {
     "name": "stdout",
     "output_type": "stream",
     "text": [
      "-9.81672461489699 8.784520983154898e-19\n",
      "The t-value is extreme and the p-value is small , \n",
      "hence I believe there is a statistical signicant difference between the samples.\n",
      "\n",
      " -5.181355658659892 5.408017882785663e-07\n",
      "The t-value is lower than the first test and the p-value is greater, \n",
      "hence these samples are less statistically different than the first two\n"
     ]
    }
   ],
   "source": [
    "#2 \n",
    "np.random.seed(555)\n",
    "new_pop1 = np.random.binomial(10 ,.3 ,1000)\n",
    "pop2 = np.random.binomial(10 ,.5 ,1000)\n",
    "A_S1= np.random.choice(new_pop1, 100, replace=False)\n",
    "A_S2= np.random.choice(pop2, 100, replace=False)\n",
    "tvalue , pvalue = ss.ttest_ind(A_S1, A_S2, equal_var=False)\n",
    "print(tvalue , pvalue)\n",
    "print('The t-value is extreme and the p-value is small , \\nhence I believe there is a statistical difference between the samples.')\n",
    "\n",
    "np.random.seed(555)\n",
    "new2_pop1 = np.random.binomial(10 ,.4 ,1000)\n",
    "pop2 = np.random.binomial(10 ,.5 ,1000)\n",
    "B_S1 = np.random.choice(new2_pop1 , 100 , replace=False)print('The t-value is lower than the first test and the p-value is greater, \\nhence these samples are less statistically different than the first two')\n",
    "B_S2 = np.random.choice(pop2 , 100 , replace=False)\n",
    "tvalue2 , pvalue2 = ss.ttest_ind(B_S1, B_S2 , equal_var=False)\n",
    "print('\\n',tvalue2 , pvalue2)\n"
   ]
  },
  {
   "cell_type": "code",
   "execution_count": 11,
   "metadata": {},
   "outputs": [
    {
     "data": {
      "image/png": "[encoded data removed]",
      "text/plain": [
       "<Figure size 432x288 with 1 Axes>"
      ]
     },
     "metadata": {
      "needs_background": "light"
     },
     "output_type": "display_data"
    },
    {
     "name": "stdout",
     "output_type": "stream",
     "text": [
      "0.5150651653102468 3.83 1.967 \n",
      " 2.555166806779066 5.03 4.999\n"
     ]
    }
   ],
   "source": [
    "#3\n",
    "np.random.seed(555)\n",
    "Gamma_pop1 = np.random.gamma(.5,1 ,1000)\n",
    "Gamma_pop2 = np.random.gamma(2.5 ,1 ,1000)\n",
    "plt.hist(Gamma_pop1, alpha=.5, color='r', label='pop1')\n",
    "plt.hist(Gamma_pop2, alpha=.5, label='pop2')\n",
    "plt.legend()\n",
    "plt.show()\n",
    "\n",
    "print(Gamma_pop1.mean() , B_S1.mean(),S1000A.mean(),'\\n', Gamma_pop2.mean() , B_S2.mean(), S1000B.mean())"
   ]
  },
  {
   "cell_type": "markdown",
   "metadata": {},
   "source": [
    "The sample means no longer reflect the population means since I changed population distribution."
   ]
  },
  {
   "cell_type": "code",
   "execution_count": null,
   "metadata": {},
   "outputs": [],
   "source": []
  },
  {
   "cell_type": "code",
   "execution_count": null,
   "metadata": {},
   "outputs": [],
   "source": []
  }
 ],
 "metadata": {
  "kernelspec": {
   "display_name": "Python 3",
   "language": "python",
   "name": "python3"
  },
  "language_info": {
   "codemirror_mode": {
    "name": "ipython",
    "version": 3
   },
   "file_extension": ".py",
   "mimetype": "text/x-python",
   "name": "python",
   "nbconvert_exporter": "python",
   "pygments_lexer": "ipython3",
   "version": "3.7.1"
  }
 },
 "nbformat": 4,
 "nbformat_minor": 2
}
